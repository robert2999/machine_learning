{
  "nbformat": 4,
  "nbformat_minor": 0,
  "metadata": {
    "colab": {
      "provenance": [],
      "authorship_tag": "ABX9TyOXlNfpVXnSvUxuU7rQO3sN",
      "include_colab_link": true
    },
    "kernelspec": {
      "name": "python3",
      "display_name": "Python 3"
    },
    "language_info": {
      "name": "python"
    }
  },
  "cells": [
    {
      "cell_type": "markdown",
      "metadata": {
        "id": "view-in-github",
        "colab_type": "text"
      },
      "source": [
        "<a href=\"https://colab.research.google.com/github/robert2999/machine_learning/blob/main/numpy1.ipynb\" target=\"_parent\"><img src=\"https://colab.research.google.com/assets/colab-badge.svg\" alt=\"Open In Colab\"/></a>"
      ]
    },
    {
      "cell_type": "markdown",
      "source": [
        "NUMPY arrays ,orange,zeros,ones,linspace,eye"
      ],
      "metadata": {
        "id": "-k2gdCK78IfF"
      }
    },
    {
      "cell_type": "code",
      "source": [
        "import numpy as np"
      ],
      "metadata": {
        "id": "q-HVzIhJ8WmF"
      },
      "execution_count": 1,
      "outputs": []
    },
    {
      "cell_type": "code",
      "source": [
        "array=np.arange(5)\n",
        "array"
      ],
      "metadata": {
        "colab": {
          "base_uri": "https://localhost:8080/"
        },
        "id": "FmISpGMW8hwW",
        "outputId": "2ff9438a-c4f1-413a-8c48-8e3b0893b10e"
      },
      "execution_count": 3,
      "outputs": [
        {
          "output_type": "execute_result",
          "data": {
            "text/plain": [
              "array([0, 1, 2, 3, 4])"
            ]
          },
          "metadata": {},
          "execution_count": 3
        }
      ]
    },
    {
      "cell_type": "code",
      "source": [
        "np.arange(2,10)"
      ],
      "metadata": {
        "colab": {
          "base_uri": "https://localhost:8080/"
        },
        "id": "1yAJ4lHq8tT3",
        "outputId": "4ef3f42b-3405-4b22-813b-322ace5a1ef0"
      },
      "execution_count": 7,
      "outputs": [
        {
          "output_type": "execute_result",
          "data": {
            "text/plain": [
              "array([2, 3, 4, 5, 6, 7, 8, 9])"
            ]
          },
          "metadata": {},
          "execution_count": 7
        }
      ]
    },
    {
      "cell_type": "code",
      "source": [
        "np.arange(2,10,2)"
      ],
      "metadata": {
        "colab": {
          "base_uri": "https://localhost:8080/"
        },
        "id": "OnBaU46D8_eC",
        "outputId": "5a6e99c0-a689-4bc8-e0a6-e931037e1a1a"
      },
      "execution_count": 8,
      "outputs": [
        {
          "output_type": "execute_result",
          "data": {
            "text/plain": [
              "array([2, 4, 6, 8])"
            ]
          },
          "metadata": {},
          "execution_count": 8
        }
      ]
    },
    {
      "cell_type": "code",
      "source": [
        "np.arange(2,20,2)"
      ],
      "metadata": {
        "colab": {
          "base_uri": "https://localhost:8080/"
        },
        "id": "5XwmjEjg9E--",
        "outputId": "07cb873f-2e4a-453d-bb36-8926db9cd7d8"
      },
      "execution_count": 9,
      "outputs": [
        {
          "output_type": "execute_result",
          "data": {
            "text/plain": [
              "array([ 2,  4,  6,  8, 10, 12, 14, 16, 18])"
            ]
          },
          "metadata": {},
          "execution_count": 9
        }
      ]
    },
    {
      "cell_type": "code",
      "source": [
        "np.arange(20)"
      ],
      "metadata": {
        "colab": {
          "base_uri": "https://localhost:8080/"
        },
        "id": "Y0Ty623u9MvP",
        "outputId": "7a90220e-8446-4c4a-b1d3-3af943a74794"
      },
      "execution_count": 10,
      "outputs": [
        {
          "output_type": "execute_result",
          "data": {
            "text/plain": [
              "array([ 0,  1,  2,  3,  4,  5,  6,  7,  8,  9, 10, 11, 12, 13, 14, 15, 16,\n",
              "       17, 18, 19])"
            ]
          },
          "metadata": {},
          "execution_count": 10
        }
      ]
    },
    {
      "cell_type": "code",
      "source": [
        "np.zeros(3)"
      ],
      "metadata": {
        "colab": {
          "base_uri": "https://localhost:8080/"
        },
        "id": "V9jhv3e09P1q",
        "outputId": "0becfe6f-3b3b-4a83-8870-57e154b77b82"
      },
      "execution_count": 11,
      "outputs": [
        {
          "output_type": "execute_result",
          "data": {
            "text/plain": [
              "array([0., 0., 0.])"
            ]
          },
          "metadata": {},
          "execution_count": 11
        }
      ]
    },
    {
      "cell_type": "code",
      "source": [
        "np.zeros((2,5))"
      ],
      "metadata": {
        "colab": {
          "base_uri": "https://localhost:8080/"
        },
        "id": "oj1G8J_p9W4P",
        "outputId": "479621a0-cb8d-4781-e815-c3241e65e23b"
      },
      "execution_count": 13,
      "outputs": [
        {
          "output_type": "execute_result",
          "data": {
            "text/plain": [
              "array([[0., 0., 0., 0., 0.],\n",
              "       [0., 0., 0., 0., 0.]])"
            ]
          },
          "metadata": {},
          "execution_count": 13
        }
      ]
    },
    {
      "cell_type": "code",
      "source": [
        "np.ones(4)"
      ],
      "metadata": {
        "colab": {
          "base_uri": "https://localhost:8080/"
        },
        "id": "vxSuyRgn9eVQ",
        "outputId": "f7c856df-54d9-4a17-df44-e440d7cd0705"
      },
      "execution_count": 14,
      "outputs": [
        {
          "output_type": "execute_result",
          "data": {
            "text/plain": [
              "array([1., 1., 1., 1.])"
            ]
          },
          "metadata": {},
          "execution_count": 14
        }
      ]
    },
    {
      "cell_type": "code",
      "source": [
        "np.ones((3,4))"
      ],
      "metadata": {
        "colab": {
          "base_uri": "https://localhost:8080/"
        },
        "id": "JfATA6WA9klt",
        "outputId": "d1069534-d6d2-422c-bde5-490ec75d001b"
      },
      "execution_count": 15,
      "outputs": [
        {
          "output_type": "execute_result",
          "data": {
            "text/plain": [
              "array([[1., 1., 1., 1.],\n",
              "       [1., 1., 1., 1.],\n",
              "       [1., 1., 1., 1.]])"
            ]
          },
          "metadata": {},
          "execution_count": 15
        }
      ]
    },
    {
      "cell_type": "code",
      "source": [
        "np.linspace(5,10,30)"
      ],
      "metadata": {
        "colab": {
          "base_uri": "https://localhost:8080/"
        },
        "id": "yqNxOMV19tNe",
        "outputId": "bea1bc8a-4650-472c-cf1a-1331f1bbe78b"
      },
      "execution_count": 17,
      "outputs": [
        {
          "output_type": "execute_result",
          "data": {
            "text/plain": [
              "array([ 5.        ,  5.17241379,  5.34482759,  5.51724138,  5.68965517,\n",
              "        5.86206897,  6.03448276,  6.20689655,  6.37931034,  6.55172414,\n",
              "        6.72413793,  6.89655172,  7.06896552,  7.24137931,  7.4137931 ,\n",
              "        7.5862069 ,  7.75862069,  7.93103448,  8.10344828,  8.27586207,\n",
              "        8.44827586,  8.62068966,  8.79310345,  8.96551724,  9.13793103,\n",
              "        9.31034483,  9.48275862,  9.65517241,  9.82758621, 10.        ])"
            ]
          },
          "metadata": {},
          "execution_count": 17
        }
      ]
    },
    {
      "cell_type": "code",
      "source": [
        "np.eye(4)"
      ],
      "metadata": {
        "colab": {
          "base_uri": "https://localhost:8080/"
        },
        "id": "1usOtLg298Pa",
        "outputId": "84f49e0d-f3d3-470a-a6bd-32bd2c3bc2f3"
      },
      "execution_count": 18,
      "outputs": [
        {
          "output_type": "execute_result",
          "data": {
            "text/plain": [
              "array([[1., 0., 0., 0.],\n",
              "       [0., 1., 0., 0.],\n",
              "       [0., 0., 1., 0.],\n",
              "       [0., 0., 0., 1.]])"
            ]
          },
          "metadata": {},
          "execution_count": 18
        }
      ]
    },
    {
      "cell_type": "markdown",
      "source": [
        "Numeros aleatorios-rand y randn"
      ],
      "metadata": {
        "id": "6RuiZzwa-YVq"
      }
    },
    {
      "cell_type": "code",
      "source": [
        "np.random.rand(5)"
      ],
      "metadata": {
        "colab": {
          "base_uri": "https://localhost:8080/"
        },
        "id": "1CWBH2GH-d5A",
        "outputId": "f90f7a24-2e30-45f1-edd2-3e331d9482dd"
      },
      "execution_count": 19,
      "outputs": [
        {
          "output_type": "execute_result",
          "data": {
            "text/plain": [
              "array([0.32001452, 0.47040303, 0.27450264, 0.7874419 , 0.91074128])"
            ]
          },
          "metadata": {},
          "execution_count": 19
        }
      ]
    },
    {
      "cell_type": "code",
      "source": [
        "np.random.rand(2,5)"
      ],
      "metadata": {
        "colab": {
          "base_uri": "https://localhost:8080/"
        },
        "id": "VfWlc9TO-oQa",
        "outputId": "7373db81-97ac-402b-9ca1-25d006214ec6"
      },
      "execution_count": 21,
      "outputs": [
        {
          "output_type": "execute_result",
          "data": {
            "text/plain": [
              "array([[0.12514099, 0.65070467, 0.58846515, 0.80772294, 0.86324422],\n",
              "       [0.10014611, 0.48976819, 0.03407833, 0.95375277, 0.29687296]])"
            ]
          },
          "metadata": {},
          "execution_count": 21
        }
      ]
    },
    {
      "cell_type": "code",
      "source": [
        "np.random.randn(4)"
      ],
      "metadata": {
        "colab": {
          "base_uri": "https://localhost:8080/"
        },
        "id": "GoGonTvd-x5e",
        "outputId": "be9587a5-f505-44e7-840a-8154e4e44389"
      },
      "execution_count": 22,
      "outputs": [
        {
          "output_type": "execute_result",
          "data": {
            "text/plain": [
              "array([ 2.07767942, -0.37077099, -0.85630131, -1.53031474])"
            ]
          },
          "metadata": {},
          "execution_count": 22
        }
      ]
    },
    {
      "cell_type": "code",
      "source": [
        "np.random.randn(2,4)"
      ],
      "metadata": {
        "colab": {
          "base_uri": "https://localhost:8080/"
        },
        "id": "UhNYWEoc-3QY",
        "outputId": "e7b1d958-798a-4ae6-be35-ba13ed57ef1c"
      },
      "execution_count": 23,
      "outputs": [
        {
          "output_type": "execute_result",
          "data": {
            "text/plain": [
              "array([[ 0.2876877 ,  1.20888462,  0.34460583, -0.70988172],\n",
              "       [ 1.83772544,  0.47492513, -1.20578634,  0.42654844]])"
            ]
          },
          "metadata": {},
          "execution_count": 23
        }
      ]
    },
    {
      "cell_type": "code",
      "source": [
        "np.random.randint(1,20)"
      ],
      "metadata": {
        "colab": {
          "base_uri": "https://localhost:8080/"
        },
        "id": "IvfkkKdV_BYV",
        "outputId": "6ec2b8c5-e07f-45d7-beb0-9fe8b599925d"
      },
      "execution_count": 28,
      "outputs": [
        {
          "output_type": "execute_result",
          "data": {
            "text/plain": [
              "7"
            ]
          },
          "metadata": {},
          "execution_count": 28
        }
      ]
    },
    {
      "cell_type": "code",
      "source": [
        "np.random.randint(1,20,10)"
      ],
      "metadata": {
        "colab": {
          "base_uri": "https://localhost:8080/"
        },
        "id": "UrpyBBuW_LMZ",
        "outputId": "3bd407eb-16ee-4a21-f7a9-a06e6434b09f"
      },
      "execution_count": 29,
      "outputs": [
        {
          "output_type": "execute_result",
          "data": {
            "text/plain": [
              "array([ 7,  3,  7, 12,  9, 11,  9, 18, 10, 16])"
            ]
          },
          "metadata": {},
          "execution_count": 29
        }
      ]
    },
    {
      "cell_type": "markdown",
      "source": [
        "numpy array -reshape (cambio de filas y columnas)"
      ],
      "metadata": {
        "id": "yEC_ZjP__VRw"
      }
    },
    {
      "cell_type": "code",
      "source": [
        "array=np.random.randint(1,100,25)\n",
        "array"
      ],
      "metadata": {
        "colab": {
          "base_uri": "https://localhost:8080/"
        },
        "id": "UJ6M_rzH_VCl",
        "outputId": "5fc27cdc-0dd2-400b-ae69-522131670782"
      },
      "execution_count": 30,
      "outputs": [
        {
          "output_type": "execute_result",
          "data": {
            "text/plain": [
              "array([16, 11, 13, 66, 44,  4, 68, 34, 87, 70, 11,  8, 84,  8, 64, 74, 41,\n",
              "       66, 75, 36, 73,  8, 55, 31,  2])"
            ]
          },
          "metadata": {},
          "execution_count": 30
        }
      ]
    },
    {
      "cell_type": "code",
      "source": [
        "# cabe resaltar que el numero de filas x columnas debe darte la\n",
        "#longitud del array en el caso anterior es 25\n",
        "matriz=array.reshape(5,5)\n",
        "matriz"
      ],
      "metadata": {
        "colab": {
          "base_uri": "https://localhost:8080/"
        },
        "id": "FwTpyd6b_khw",
        "outputId": "3d5e231b-0aec-47f8-e28c-5a750012e55d"
      },
      "execution_count": 31,
      "outputs": [
        {
          "output_type": "execute_result",
          "data": {
            "text/plain": [
              "array([[16, 11, 13, 66, 44],\n",
              "       [ 4, 68, 34, 87, 70],\n",
              "       [11,  8, 84,  8, 64],\n",
              "       [74, 41, 66, 75, 36],\n",
              "       [73,  8, 55, 31,  2]])"
            ]
          },
          "metadata": {},
          "execution_count": 31
        }
      ]
    },
    {
      "cell_type": "markdown",
      "source": [
        "VALOR MAXIMO Y VALOR MINIMO max y min"
      ],
      "metadata": {
        "id": "sQWwu_kSADJg"
      }
    },
    {
      "cell_type": "code",
      "source": [
        "array=np.random.randint(1,100,50)\n",
        "array"
      ],
      "metadata": {
        "colab": {
          "base_uri": "https://localhost:8080/"
        },
        "id": "bzwkE4dmAJHL",
        "outputId": "15bedad2-63e8-45a5-fa12-18cce77fe776"
      },
      "execution_count": 32,
      "outputs": [
        {
          "output_type": "execute_result",
          "data": {
            "text/plain": [
              "array([33, 33, 48, 39, 45, 23, 41, 66, 69, 48, 58, 59, 25, 65, 85, 78, 54,\n",
              "       86, 45, 50, 78, 12, 12, 59, 86,  4,  7, 55,  1,  3, 29, 96, 78, 93,\n",
              "       61, 31, 50, 45,  5, 94, 26, 42, 30, 90, 60, 88, 60, 39, 44, 93])"
            ]
          },
          "metadata": {},
          "execution_count": 32
        }
      ]
    },
    {
      "cell_type": "code",
      "source": [
        "valor_maximo=array.max()\n",
        "valor_maximo"
      ],
      "metadata": {
        "colab": {
          "base_uri": "https://localhost:8080/"
        },
        "id": "NcvXpltvAWRC",
        "outputId": "0f21c5d5-bc67-4795-8c88-bf73a011db05"
      },
      "execution_count": 35,
      "outputs": [
        {
          "output_type": "execute_result",
          "data": {
            "text/plain": [
              "np.int64(96)"
            ]
          },
          "metadata": {},
          "execution_count": 35
        }
      ]
    },
    {
      "cell_type": "code",
      "source": [
        "posicion=array.argmax()\n",
        "posicion"
      ],
      "metadata": {
        "colab": {
          "base_uri": "https://localhost:8080/"
        },
        "id": "6WPbg2d0Aidq",
        "outputId": "596e5136-56b0-4680-d9e9-e8d996add3ff"
      },
      "execution_count": 36,
      "outputs": [
        {
          "output_type": "execute_result",
          "data": {
            "text/plain": [
              "np.int64(31)"
            ]
          },
          "metadata": {},
          "execution_count": 36
        }
      ]
    },
    {
      "cell_type": "code",
      "source": [
        "valor_min=array.min()\n",
        "valor_min"
      ],
      "metadata": {
        "colab": {
          "base_uri": "https://localhost:8080/"
        },
        "id": "7P2rrDhsAsUR",
        "outputId": "bb002f78-56e4-4c35-beda-a324318d57ce"
      },
      "execution_count": 39,
      "outputs": [
        {
          "output_type": "execute_result",
          "data": {
            "text/plain": [
              "np.int64(1)"
            ]
          },
          "metadata": {},
          "execution_count": 39
        }
      ]
    },
    {
      "cell_type": "code",
      "source": [
        "pos_min=array.argmin()\n",
        "pos_min\n"
      ],
      "metadata": {
        "colab": {
          "base_uri": "https://localhost:8080/"
        },
        "id": "ediOWgQzA0mh",
        "outputId": "37324bb0-997f-4b95-8ce5-f93c4b93b35e"
      },
      "execution_count": 40,
      "outputs": [
        {
          "output_type": "execute_result",
          "data": {
            "text/plain": [
              "np.int64(28)"
            ]
          },
          "metadata": {},
          "execution_count": 40
        }
      ]
    }
  ]
}