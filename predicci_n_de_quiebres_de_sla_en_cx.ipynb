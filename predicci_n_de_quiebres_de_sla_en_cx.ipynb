{
  "nbformat": 4,
  "nbformat_minor": 0,
  "metadata": {
    "colab": {
      "provenance": [],
      "authorship_tag": "ABX9TyO51EYkxuEBJjsWvuvksRCp",
      "include_colab_link": true
    },
    "kernelspec": {
      "name": "python3",
      "display_name": "Python 3"
    },
    "language_info": {
      "name": "python"
    }
  },
  "cells": [
    {
      "cell_type": "markdown",
      "metadata": {
        "id": "view-in-github",
        "colab_type": "text"
      },
      "source": [
        "<a href=\"https://colab.research.google.com/github/robert2999/machine_learning/blob/main/predicci_n_de_quiebres_de_sla_en_cx.ipynb\" target=\"_parent\"><img src=\"https://colab.research.google.com/assets/colab-badge.svg\" alt=\"Open In Colab\"/></a>"
      ]
    },
    {
      "cell_type": "code",
      "execution_count": null,
      "metadata": {
        "id": "iAe6EkuwEeWc"
      },
      "outputs": [],
      "source": [
        "import pandas as pd\n",
        "from sklearn.model_selection import train_test_split\n",
        "from sklearn.feature_extraction.text import TfidfVectorizer\n",
        "from sklearn.compose import ColumnTransformer\n",
        "from sklearn.preprocessing import OneHotEncoder\n",
        "from sklearn.linear_model import LogisticRegression\n",
        "from sklearn.pipeline import Pipeline\n",
        "from sklearn.metrics import classification_report, roc_auc_score"
      ]
    },
    {
      "cell_type": "code",
      "source": [
        "df = pd.read_csv(\"encuestas_demo.csv\")\n",
        "df[\"quiebre_sla\"] = (df[\"primera_respuesta_horas\"] > df[\"sla_objetivo_horas\"]).astype(int)\n",
        "df[\"len_comentario\"] = df[\"comentario\"].fillna(\"\").str.len()"
      ],
      "metadata": {
        "id": "TZEKkQIxEi2u"
      },
      "execution_count": null,
      "outputs": []
    },
    {
      "cell_type": "code",
      "source": [
        "text = \"comentario\"\n",
        "cats = [\"canal\", \"categoria\", \"severidad\"]\n",
        "nums = [\"sla_objetivo_horas\", \"len_comentario\"]\n",
        "y = df[\"quiebre_sla\"]\n",
        "X = df[[text] + cats + nums]"
      ],
      "metadata": {
        "id": "AeSObEWMEyYk"
      },
      "execution_count": null,
      "outputs": []
    },
    {
      "cell_type": "code",
      "source": [
        "pre = ColumnTransformer([\n",
        "    (\"txt\", TfidfVectorizer(max_features=2000, ngram_range=(1,2)), \"comentario\"),\n",
        "    (\"cat\", OneHotEncoder(handle_unknown=\"ignore\"), cats),\n",
        "    (\"num\", \"passthrough\", nums)\n",
        "])"
      ],
      "metadata": {
        "id": "GDQttk9nE59V"
      },
      "execution_count": null,
      "outputs": []
    },
    {
      "cell_type": "code",
      "source": [
        "pipe = Pipeline([\n",
        "    (\"prep\", pre),\n",
        "    (\"clf\", LogisticRegression(max_iter=1000))\n",
        "])"
      ],
      "metadata": {
        "id": "UpEcX40pFBtz"
      },
      "execution_count": null,
      "outputs": []
    },
    {
      "cell_type": "code",
      "source": [
        "Xtr, Xte, ytr, yte = train_test_split(X, y, test_size=0.2, stratify=y, random_state=42)\n",
        "pipe.fit(Xtr, ytr)\n",
        "\n",
        "pred = pipe.predict(Xte)\n",
        "proba = pipe.predict_proba(Xte)[:,1]\n",
        "print(classification_report(yte, pred))\n",
        "print(\"AUC:\", roc_auc_score(yte, proba))"
      ],
      "metadata": {
        "colab": {
          "base_uri": "https://localhost:8080/"
        },
        "id": "_0aIGGVQFHgJ",
        "outputId": "7eb357d2-f132-4dbb-f45b-7e609d40381c"
      },
      "execution_count": null,
      "outputs": [
        {
          "output_type": "stream",
          "name": "stdout",
          "text": [
            "              precision    recall  f1-score   support\n",
            "\n",
            "           0       0.93      0.99      0.96        92\n",
            "           1       0.50      0.12      0.20         8\n",
            "\n",
            "    accuracy                           0.92       100\n",
            "   macro avg       0.71      0.56      0.58       100\n",
            "weighted avg       0.89      0.92      0.90       100\n",
            "\n",
            "AUC: 0.8355978260869564\n"
          ]
        }
      ]
    }
  ]
}