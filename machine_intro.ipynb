{
  "nbformat": 4,
  "nbformat_minor": 0,
  "metadata": {
    "colab": {
      "provenance": []
    },
    "kernelspec": {
      "name": "python3",
      "display_name": "Python 3"
    },
    "language_info": {
      "name": "python"
    }
  },
  "cells": [
    {
      "cell_type": "code",
      "execution_count": 1,
      "metadata": {
        "id": "iwdzT4_pHvDz"
      },
      "outputs": [],
      "source": [
        "def funcion():\n",
        "  print('Hola,buenos dias')\n"
      ]
    },
    {
      "cell_type": "code",
      "source": [
        "funcion()"
      ],
      "metadata": {
        "colab": {
          "base_uri": "https://localhost:8080/"
        },
        "id": "yFuRaM4HH_Su",
        "outputId": "1a8a8688-6a3a-4b11-9bda-bb5ad3e728ea"
      },
      "execution_count": 2,
      "outputs": [
        {
          "output_type": "stream",
          "name": "stdout",
          "text": [
            "Hola,buenos dias\n"
          ]
        }
      ]
    },
    {
      "cell_type": "code",
      "source": [
        "def saludar(nombre):\n",
        "  print(f'hola buenos dias {nombre}')"
      ],
      "metadata": {
        "id": "KQ2J9mydIEGK"
      },
      "execution_count": 3,
      "outputs": []
    },
    {
      "cell_type": "code",
      "source": [
        "saludar('Roberto')"
      ],
      "metadata": {
        "colab": {
          "base_uri": "https://localhost:8080/"
        },
        "id": "3pjV5jrYINTl",
        "outputId": "fb02f92e-8405-4e62-d4f7-731b04f30e8e"
      },
      "execution_count": 4,
      "outputs": [
        {
          "output_type": "stream",
          "name": "stdout",
          "text": [
            "hola buenos dias Roberto\n"
          ]
        }
      ]
    },
    {
      "cell_type": "code",
      "source": [
        "def sumar(num1,num2):\n",
        "  resultado=num1+num2\n",
        "  return resultado"
      ],
      "metadata": {
        "id": "sorIXZ3RITic"
      },
      "execution_count": 5,
      "outputs": []
    },
    {
      "cell_type": "code",
      "source": [
        "sumar(2,3)"
      ],
      "metadata": {
        "colab": {
          "base_uri": "https://localhost:8080/"
        },
        "id": "ghfA9XiRIbnF",
        "outputId": "1451c9f4-10f3-4660-f735-38de9bcebb86"
      },
      "execution_count": 6,
      "outputs": [
        {
          "output_type": "execute_result",
          "data": {
            "text/plain": [
              "5"
            ]
          },
          "metadata": {},
          "execution_count": 6
        }
      ]
    },
    {
      "cell_type": "markdown",
      "source": [
        "Funcion MAP"
      ],
      "metadata": {
        "id": "caC98ONJIzMs"
      }
    },
    {
      "cell_type": "code",
      "source": [
        "def multiplicar(numero):\n",
        "  return numero*2"
      ],
      "metadata": {
        "id": "JwKg5MpAI1DB"
      },
      "execution_count": 8,
      "outputs": []
    },
    {
      "cell_type": "code",
      "source": [
        "multiplicar(5)"
      ],
      "metadata": {
        "colab": {
          "base_uri": "https://localhost:8080/"
        },
        "id": "6CIKy03jI6RF",
        "outputId": "3693649e-0b4d-4aa9-c4f8-a3aa7c9fe907"
      },
      "execution_count": 9,
      "outputs": [
        {
          "output_type": "execute_result",
          "data": {
            "text/plain": [
              "10"
            ]
          },
          "metadata": {},
          "execution_count": 9
        }
      ]
    },
    {
      "cell_type": "code",
      "source": [
        "lista=[1,2,3,4,5]\n",
        "lista2=list(map(multiplicar,lista))"
      ],
      "metadata": {
        "id": "KrKtsF-XI82l"
      },
      "execution_count": 11,
      "outputs": []
    },
    {
      "cell_type": "code",
      "source": [
        "lista2"
      ],
      "metadata": {
        "colab": {
          "base_uri": "https://localhost:8080/"
        },
        "id": "avfAEDJQJK6F",
        "outputId": "b44655ac-089e-4625-ff33-ba2f08bbc398"
      },
      "execution_count": 12,
      "outputs": [
        {
          "output_type": "execute_result",
          "data": {
            "text/plain": [
              "[2, 4, 6, 8, 10]"
            ]
          },
          "metadata": {},
          "execution_count": 12
        }
      ]
    },
    {
      "cell_type": "markdown",
      "source": [
        "Funcion Lambda"
      ],
      "metadata": {
        "id": "UXdBgzmNJWN9"
      }
    },
    {
      "cell_type": "code",
      "source": [
        "def multiplicar(numero):\n",
        "  return numero*2"
      ],
      "metadata": {
        "id": "0kw15m07JYf6"
      },
      "execution_count": 13,
      "outputs": []
    },
    {
      "cell_type": "code",
      "source": [
        "multiplicar(5)"
      ],
      "metadata": {
        "colab": {
          "base_uri": "https://localhost:8080/"
        },
        "id": "MHRwhFaxJgP8",
        "outputId": "4de48891-e79a-4de3-ca46-2a80e3eb0314"
      },
      "execution_count": 14,
      "outputs": [
        {
          "output_type": "execute_result",
          "data": {
            "text/plain": [
              "10"
            ]
          },
          "metadata": {},
          "execution_count": 14
        }
      ]
    },
    {
      "cell_type": "code",
      "source": [
        "lista1=[1,2,3,4]\n",
        "lista2=list(map(multiplicar,lista1))\n",
        "lista2"
      ],
      "metadata": {
        "colab": {
          "base_uri": "https://localhost:8080/"
        },
        "id": "2oPXUa6jJjOl",
        "outputId": "c5bbf288-7af6-4cb8-fa41-40ca1da64a09"
      },
      "execution_count": 15,
      "outputs": [
        {
          "output_type": "execute_result",
          "data": {
            "text/plain": [
              "[2, 4, 6, 8]"
            ]
          },
          "metadata": {},
          "execution_count": 15
        }
      ]
    },
    {
      "cell_type": "code",
      "source": [
        "lista3=list(map(lambda numero:numero*2,lista1))\n",
        "lista3"
      ],
      "metadata": {
        "colab": {
          "base_uri": "https://localhost:8080/"
        },
        "id": "T6S67EVLJsY9",
        "outputId": "25bf359d-98dd-4887-b3f0-cf6137085810"
      },
      "execution_count": 16,
      "outputs": [
        {
          "output_type": "execute_result",
          "data": {
            "text/plain": [
              "[2, 4, 6, 8]"
            ]
          },
          "metadata": {},
          "execution_count": 16
        }
      ]
    },
    {
      "cell_type": "markdown",
      "source": [
        "FILTRAR"
      ],
      "metadata": {
        "id": "QjrwtkKnJ7nR"
      }
    },
    {
      "cell_type": "code",
      "source": [
        "def par(numero):\n",
        "  if numero%2==0:\n",
        "    return True\n",
        "  else:\n",
        "    return False"
      ],
      "metadata": {
        "id": "ro1vNSzoJ9k9"
      },
      "execution_count": 17,
      "outputs": []
    },
    {
      "cell_type": "code",
      "source": [
        "par(3)"
      ],
      "metadata": {
        "colab": {
          "base_uri": "https://localhost:8080/"
        },
        "id": "1UVDXOl-KHFE",
        "outputId": "c109782f-c73b-4cab-aff5-80ac23f37422"
      },
      "execution_count": 18,
      "outputs": [
        {
          "output_type": "execute_result",
          "data": {
            "text/plain": [
              "False"
            ]
          },
          "metadata": {},
          "execution_count": 18
        }
      ]
    },
    {
      "cell_type": "code",
      "source": [
        "lista23=[1,2,3,4,5,6,7]\n",
        "lista_pares=list(filter(par,lista23))\n",
        "lista_pares"
      ],
      "metadata": {
        "colab": {
          "base_uri": "https://localhost:8080/"
        },
        "id": "gieok-p8KJkH",
        "outputId": "3aee8364-6f4e-4a4d-e02d-8e744256eb37"
      },
      "execution_count": 19,
      "outputs": [
        {
          "output_type": "execute_result",
          "data": {
            "text/plain": [
              "[2, 4, 6]"
            ]
          },
          "metadata": {},
          "execution_count": 19
        }
      ]
    },
    {
      "cell_type": "code",
      "source": [
        "lista23=[1,2,3,4,5,6,7]\n",
        "lista_pares1=list(filter(lambda numero:numero%2==0,lista23))\n",
        "lista_pares1"
      ],
      "metadata": {
        "colab": {
          "base_uri": "https://localhost:8080/"
        },
        "id": "5tp6H24fKaa1",
        "outputId": "5d930788-8af6-462c-e7c5-3419a7513e82"
      },
      "execution_count": 20,
      "outputs": [
        {
          "output_type": "execute_result",
          "data": {
            "text/plain": [
              "[2, 4, 6]"
            ]
          },
          "metadata": {},
          "execution_count": 20
        }
      ]
    },
    {
      "cell_type": "code",
      "source": [
        "frase='hola, este es un curso basico de python'"
      ],
      "metadata": {
        "id": "hDXvzVpFLEa9"
      },
      "execution_count": 23,
      "outputs": []
    },
    {
      "cell_type": "code",
      "source": [
        "palabra=frase.split()\n",
        "palabra"
      ],
      "metadata": {
        "colab": {
          "base_uri": "https://localhost:8080/"
        },
        "id": "anm7xWnOLK0V",
        "outputId": "51040739-9a03-4e3d-c7b3-c7eda3a87cab"
      },
      "execution_count": 24,
      "outputs": [
        {
          "output_type": "execute_result",
          "data": {
            "text/plain": [
              "['hola,', 'este', 'es', 'un', 'curso', 'basico', 'de', 'python']"
            ]
          },
          "metadata": {},
          "execution_count": 24
        }
      ]
    },
    {
      "cell_type": "code",
      "source": [
        "suma=0\n",
        "for letra in palabra:\n",
        "  suma=suma+1\n",
        "print(suma)"
      ],
      "metadata": {
        "colab": {
          "base_uri": "https://localhost:8080/"
        },
        "id": "ca-Gy5jELgOF",
        "outputId": "a1ad7c68-08d3-43b5-bcea-75f288dc08b6"
      },
      "execution_count": 25,
      "outputs": [
        {
          "output_type": "stream",
          "name": "stdout",
          "text": [
            "8\n"
          ]
        }
      ]
    },
    {
      "cell_type": "code",
      "source": [
        "lista_1=[1,-1,4,-15,9,7,6,-3,2,-20]\n",
        "def positivo(numero):\n",
        "  if numero>0:\n",
        "    return True\n",
        "  else:\n",
        "    return False\n",
        "lista2=list(filter(lambda numero:numero>0,lista_1))\n",
        "lista2"
      ],
      "metadata": {
        "colab": {
          "base_uri": "https://localhost:8080/"
        },
        "id": "AuO6Zi50L-9F",
        "outputId": "b686b245-a0a0-4584-ad57-fd1c1a0a942f"
      },
      "execution_count": 26,
      "outputs": [
        {
          "output_type": "execute_result",
          "data": {
            "text/plain": [
              "[1, 4, 9, 7, 6, 2]"
            ]
          },
          "metadata": {},
          "execution_count": 26
        }
      ]
    },
    {
      "cell_type": "code",
      "source": [
        "lista_frutas=[\"manzana\",\"platano\",\"melocoton\",\"pera\",\"limon\",\"platano\",\"naranja\"]\n",
        "def repetido(lista):\n",
        "  i=1\n",
        "  lista_sin_repetir=[]\n",
        "  while(i<len(lista)):\n",
        "    if lista[i]==lista[i-1]:\n",
        "      lista_sin_repetir.append(lista[i])\n",
        "    i=i+1\n",
        "  return lista_sin_repetir"
      ],
      "metadata": {
        "id": "qgBcHAk0Mf59"
      },
      "execution_count": 40,
      "outputs": []
    },
    {
      "cell_type": "code",
      "source": [
        "repetido(lista_frutas)"
      ],
      "metadata": {
        "colab": {
          "base_uri": "https://localhost:8080/"
        },
        "id": "UimTiBCnNvC2",
        "outputId": "7c1f1eee-d386-4e3d-864e-83d020cd1ee2"
      },
      "execution_count": 39,
      "outputs": [
        {
          "output_type": "execute_result",
          "data": {
            "text/plain": [
              "[]"
            ]
          },
          "metadata": {},
          "execution_count": 39
        }
      ]
    },
    {
      "cell_type": "code",
      "metadata": {
        "colab": {
          "base_uri": "https://localhost:8080/"
        },
        "id": "32f0650e",
        "outputId": "14bd1db3-760f-4fb0-9d34-d1fad883247a"
      },
      "source": [
        "lista_frutas=[\"manzana\",\"platano\",\"melocoton\",\"pera\",\"limon\",\"platano\",\"naranja\"]\n",
        "def repetido(lista):\n",
        "  lista_sin_repetir = []\n",
        "  elementos_vistos = set()  # Usamos un conjunto para rastrear elementos únicos\n",
        "  for fruta in lista:\n",
        "    if fruta not in elementos_vistos:\n",
        "      lista_sin_repetir.append(fruta)\n",
        "      elementos_vistos.add(fruta)\n",
        "  return lista_sin_repetir\n",
        "\n",
        "print(repetido(lista_frutas))"
      ],
      "execution_count": 48,
      "outputs": [
        {
          "output_type": "stream",
          "name": "stdout",
          "text": [
            "['manzana', 'platano', 'melocoton', 'pera', 'limon', 'naranja']\n"
          ]
        }
      ]
    },
    {
      "cell_type": "code",
      "source": [
        "import numpy as np"
      ],
      "metadata": {
        "id": "ZWMPHWh9QMi0"
      },
      "execution_count": 49,
      "outputs": []
    },
    {
      "cell_type": "code",
      "source": [
        "lista=[1,2,3,4]"
      ],
      "metadata": {
        "id": "_kqfRSlIQQnt"
      },
      "execution_count": 50,
      "outputs": []
    },
    {
      "cell_type": "code",
      "source": [
        "array=np.array(lista)\n",
        "array"
      ],
      "metadata": {
        "colab": {
          "base_uri": "https://localhost:8080/"
        },
        "id": "ROc7o90HQTxM",
        "outputId": "cb6fcd5a-293c-4700-f398-68c64c398457"
      },
      "execution_count": 51,
      "outputs": [
        {
          "output_type": "execute_result",
          "data": {
            "text/plain": [
              "array([1, 2, 3, 4])"
            ]
          },
          "metadata": {},
          "execution_count": 51
        }
      ]
    },
    {
      "cell_type": "code",
      "source": [
        "lista2=[[1,2,3],[4,5,6],[7,8,9]]\n",
        "lista2"
      ],
      "metadata": {
        "colab": {
          "base_uri": "https://localhost:8080/"
        },
        "id": "DPp-svG-QbWE",
        "outputId": "e0b1e5bc-250a-4dc4-ee32-701e56ea833c"
      },
      "execution_count": 52,
      "outputs": [
        {
          "output_type": "execute_result",
          "data": {
            "text/plain": [
              "[[1, 2, 3], [4, 5, 6], [7, 8, 9]]"
            ]
          },
          "metadata": {},
          "execution_count": 52
        }
      ]
    },
    {
      "cell_type": "code",
      "source": [
        "array2=np.array(lista2)\n",
        "array2"
      ],
      "metadata": {
        "colab": {
          "base_uri": "https://localhost:8080/"
        },
        "id": "ZHjOw6QYQoHs",
        "outputId": "7982c2a1-d28c-4e0d-d509-3c7593705adc"
      },
      "execution_count": 53,
      "outputs": [
        {
          "output_type": "execute_result",
          "data": {
            "text/plain": [
              "array([[1, 2, 3],\n",
              "       [4, 5, 6],\n",
              "       [7, 8, 9]])"
            ]
          },
          "metadata": {},
          "execution_count": 53
        }
      ]
    },
    {
      "cell_type": "markdown",
      "source": [
        "funciones arange,zeros,one,linspace,eye"
      ],
      "metadata": {
        "id": "E7Db6xzRQyCe"
      }
    },
    {
      "cell_type": "code",
      "source": [
        "array=np.arange(5)\n",
        "# te crea un array con valores de secuencia desde el 0 al 4\n",
        "array"
      ],
      "metadata": {
        "colab": {
          "base_uri": "https://localhost:8080/"
        },
        "id": "ws6Kkp_fQ3w-",
        "outputId": "564d046f-a8bb-49bb-d569-dd2ec52d6f02"
      },
      "execution_count": 54,
      "outputs": [
        {
          "output_type": "execute_result",
          "data": {
            "text/plain": [
              "array([0, 1, 2, 3, 4])"
            ]
          },
          "metadata": {},
          "execution_count": 54
        }
      ]
    },
    {
      "cell_type": "code",
      "source": [
        "np.arange(2,10)"
      ],
      "metadata": {
        "colab": {
          "base_uri": "https://localhost:8080/"
        },
        "id": "OA2KPaSoRTy0",
        "outputId": "fb8b3dd1-9576-4ea9-ec30-c65654588ad3"
      },
      "execution_count": 55,
      "outputs": [
        {
          "output_type": "execute_result",
          "data": {
            "text/plain": [
              "array([2, 3, 4, 5, 6, 7, 8, 9])"
            ]
          },
          "metadata": {},
          "execution_count": 55
        }
      ]
    }
  ]
}